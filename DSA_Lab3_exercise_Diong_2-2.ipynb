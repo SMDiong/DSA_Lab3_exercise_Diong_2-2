{
 "cells": [
  {
   "cell_type": "markdown",
   "metadata": {},
   "source": [
    "# DSA Laboratory 3 Exercises\n",
    "Diong, Shan Marc C.\n",
    "\n",
    "BSCpE 2-2\n",
    "\n",
    "October 13, 2024\n",
    "\n",
    "GitHub Repo: https://github.com/SMDiong/DSA_Lab3_exercise_Diong_2-2.git"
   ]
  },
  {
   "cell_type": "markdown",
   "metadata": {},
   "source": [
    "### Lab 3 Exercise 1\n",
    "From a given list of integers, create a new list using comprehension that will compute the square of odd integer elements."
   ]
  },
  {
   "cell_type": "code",
   "execution_count": 10,
   "metadata": {},
   "outputs": [
    {
     "name": "stdout",
     "output_type": "stream",
     "text": [
      "The squares of all odd numbers in the list are:  [1, 9, 25, 49, 81, 121, 169, 225, 289, 361, 441, 529, 625, 729, 841, 961, 1089, 1225, 1369, 1521, 1681, 1849, 2025, 2209, 2401]\n"
     ]
    }
   ],
   "source": [
    "# Input the maximum number from the user\n",
    "max_number = int(input(\"Please enter the Maximum number in the list: \"))\n",
    "\n",
    "# Generate the list from the user starting with 1\n",
    "number_list = list(range(1, max_number + 1))\n",
    "\n",
    "# Compute the square of the odd numbers by using list comprehension\n",
    "odd_squares = [x ** 2 for x in number_list if x % 2 != 0]\n",
    "\n",
    "# Output the result\n",
    "print(\"The squares of all odd numbers in the list are: \", odd_squares)"
   ]
  },
  {
   "cell_type": "markdown",
   "metadata": {},
   "source": [
    "### Lab 3 Exercise 2\n",
    "Using comprehension, create a new list of tuples from two given lists:"
   ]
  },
  {
   "cell_type": "code",
   "execution_count": 9,
   "metadata": {},
   "outputs": [
    {
     "name": "stdout",
     "output_type": "stream",
     "text": [
      "The players in the game are:  [(18, 'Shan'), (41, 'Mark'), (69, 'Drake'), (99, 'Nash'), (54, 'Kendrick')]\n"
     ]
    }
   ],
   "source": [
    "# Input the maximum number of players in the list\n",
    "max_players = int(input(\"Please enter the number of players in the game: \"))\n",
    "\n",
    "# Initialise the list\n",
    "jersey_number = []\n",
    "jersey_name = []\n",
    "\n",
    "# Get the jersey number from the user\n",
    "for i in range(max_players):\n",
    "    while True:\n",
    "        number = int(input(f\"Please enter the number for jersey number {i+1}: \"))\n",
    "        if 1 <= number <= 99:\n",
    "            jersey_number.append(number)\n",
    "            break\n",
    "        # Input Validation\n",
    "        else:\n",
    "            print(\"Invalid number! Please enter a number between 1 and 99!\")\n",
    "\n",
    "# Get the jersey name from the user\n",
    "for i in range(max_players):\n",
    "    name = str(input(f\"Please enter the name of player number {i+1}: \"))\n",
    "    jersey_name.append(name)\n",
    "\n",
    "# Generate the list by using list comprehension from the user\n",
    "jersey_pair = [(jersey_number[i], jersey_name[i]) for i in range(max_players)]\n",
    "\n",
    "# Output the result\n",
    "print(\"The players in the game are: \", jersey_pair)"
   ]
  },
  {
   "cell_type": "markdown",
   "metadata": {},
   "source": [
    "### Lab 3 Exercise 3\n",
    "Provide a list comprehension that implementation for a function called vowelsToUpper with the following signature:\n",
    "\n",
    "method name : vowelsToUpper\n",
    "\n",
    "input argument : String \n",
    "\n",
    "return argument : String\n",
    "\n",
    "vowelsToUpper must return a version of its String argument with all its vowels changed to their uppercase forms. Nonvowel characters stay as is."
   ]
  },
  {
   "cell_type": "code",
   "execution_count": 12,
   "metadata": {},
   "outputs": [
    {
     "name": "stdout",
     "output_type": "stream",
     "text": [
      "The quick brown fox jumps over the lazy dog == ThE qUIck brOwn fOx jUmps OvEr thE lAzy dOg\n"
     ]
    }
   ],
   "source": [
    "# Define the vowelsToUpper function with use of list comprehension\n",
    "def vowelsToUpper(user_string):\n",
    "    vowels = \"aeiou\"\n",
    "    return ''.join([ch.upper() if ch in vowels else ch for ch in user_string])\n",
    "\n",
    "# Input the characters from the user\n",
    "user_input = input(\"Please enter a string: \")\n",
    "\n",
    "# Output the result\n",
    "print(user_input, \"==\", vowelsToUpper(user_input))"
   ]
  }
 ],
 "metadata": {
  "language_info": {
   "name": "python"
  }
 },
 "nbformat": 4,
 "nbformat_minor": 2
}
